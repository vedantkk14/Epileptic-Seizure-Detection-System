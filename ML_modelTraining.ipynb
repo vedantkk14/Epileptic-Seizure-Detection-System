{
 "cells": [
  {
   "cell_type": "markdown",
   "id": "cb496f0f",
   "metadata": {},
   "source": [
    "1. Clean data (drop 'Unnamed' column)\n",
    "2. Train-test split\n",
    "3. Train with all 178 features using RF/XGBoost\n",
    "4. Evaluate performance\n",
    "5. Plot feature importance\n",
    "6. Try PCA and compare performance"
   ]
  },
  {
   "cell_type": "code",
   "execution_count": 42,
   "id": "4adc1e9e",
   "metadata": {},
   "outputs": [],
   "source": [
    "import numpy as np\n",
    "import pandas as pd\n",
    "import matplotlib.pyplot as plt\n",
    "import seaborn as sns\n",
    "import warnings\n",
    "import joblib\n",
    "warnings.filterwarnings('ignore')"
   ]
  },
  {
   "cell_type": "code",
   "execution_count": 3,
   "id": "4fba595c",
   "metadata": {},
   "outputs": [
    {
     "data": {
      "text/html": [
       "<div>\n",
       "<style scoped>\n",
       "    .dataframe tbody tr th:only-of-type {\n",
       "        vertical-align: middle;\n",
       "    }\n",
       "\n",
       "    .dataframe tbody tr th {\n",
       "        vertical-align: top;\n",
       "    }\n",
       "\n",
       "    .dataframe thead th {\n",
       "        text-align: right;\n",
       "    }\n",
       "</style>\n",
       "<table border=\"1\" class=\"dataframe\">\n",
       "  <thead>\n",
       "    <tr style=\"text-align: right;\">\n",
       "      <th></th>\n",
       "      <th>Unnamed: 0</th>\n",
       "      <th>X1</th>\n",
       "      <th>X2</th>\n",
       "      <th>X3</th>\n",
       "      <th>X4</th>\n",
       "      <th>X5</th>\n",
       "      <th>X6</th>\n",
       "      <th>X7</th>\n",
       "      <th>X8</th>\n",
       "      <th>X9</th>\n",
       "      <th>...</th>\n",
       "      <th>X170</th>\n",
       "      <th>X171</th>\n",
       "      <th>X172</th>\n",
       "      <th>X173</th>\n",
       "      <th>X174</th>\n",
       "      <th>X175</th>\n",
       "      <th>X176</th>\n",
       "      <th>X177</th>\n",
       "      <th>X178</th>\n",
       "      <th>y</th>\n",
       "    </tr>\n",
       "  </thead>\n",
       "  <tbody>\n",
       "    <tr>\n",
       "      <th>0</th>\n",
       "      <td>X21.V1.791</td>\n",
       "      <td>135</td>\n",
       "      <td>190</td>\n",
       "      <td>229</td>\n",
       "      <td>223</td>\n",
       "      <td>192</td>\n",
       "      <td>125</td>\n",
       "      <td>55</td>\n",
       "      <td>-9</td>\n",
       "      <td>-33</td>\n",
       "      <td>...</td>\n",
       "      <td>-17</td>\n",
       "      <td>-15</td>\n",
       "      <td>-31</td>\n",
       "      <td>-77</td>\n",
       "      <td>-103</td>\n",
       "      <td>-127</td>\n",
       "      <td>-116</td>\n",
       "      <td>-83</td>\n",
       "      <td>-51</td>\n",
       "      <td>4</td>\n",
       "    </tr>\n",
       "    <tr>\n",
       "      <th>1</th>\n",
       "      <td>X15.V1.924</td>\n",
       "      <td>386</td>\n",
       "      <td>382</td>\n",
       "      <td>356</td>\n",
       "      <td>331</td>\n",
       "      <td>320</td>\n",
       "      <td>315</td>\n",
       "      <td>307</td>\n",
       "      <td>272</td>\n",
       "      <td>244</td>\n",
       "      <td>...</td>\n",
       "      <td>164</td>\n",
       "      <td>150</td>\n",
       "      <td>146</td>\n",
       "      <td>152</td>\n",
       "      <td>157</td>\n",
       "      <td>156</td>\n",
       "      <td>154</td>\n",
       "      <td>143</td>\n",
       "      <td>129</td>\n",
       "      <td>1</td>\n",
       "    </tr>\n",
       "    <tr>\n",
       "      <th>2</th>\n",
       "      <td>X8.V1.1</td>\n",
       "      <td>-32</td>\n",
       "      <td>-39</td>\n",
       "      <td>-47</td>\n",
       "      <td>-37</td>\n",
       "      <td>-32</td>\n",
       "      <td>-36</td>\n",
       "      <td>-57</td>\n",
       "      <td>-73</td>\n",
       "      <td>-85</td>\n",
       "      <td>...</td>\n",
       "      <td>57</td>\n",
       "      <td>64</td>\n",
       "      <td>48</td>\n",
       "      <td>19</td>\n",
       "      <td>-12</td>\n",
       "      <td>-30</td>\n",
       "      <td>-35</td>\n",
       "      <td>-35</td>\n",
       "      <td>-36</td>\n",
       "      <td>5</td>\n",
       "    </tr>\n",
       "    <tr>\n",
       "      <th>3</th>\n",
       "      <td>X16.V1.60</td>\n",
       "      <td>-105</td>\n",
       "      <td>-101</td>\n",
       "      <td>-96</td>\n",
       "      <td>-92</td>\n",
       "      <td>-89</td>\n",
       "      <td>-95</td>\n",
       "      <td>-102</td>\n",
       "      <td>-100</td>\n",
       "      <td>-87</td>\n",
       "      <td>...</td>\n",
       "      <td>-82</td>\n",
       "      <td>-81</td>\n",
       "      <td>-80</td>\n",
       "      <td>-77</td>\n",
       "      <td>-85</td>\n",
       "      <td>-77</td>\n",
       "      <td>-72</td>\n",
       "      <td>-69</td>\n",
       "      <td>-65</td>\n",
       "      <td>5</td>\n",
       "    </tr>\n",
       "    <tr>\n",
       "      <th>4</th>\n",
       "      <td>X20.V1.54</td>\n",
       "      <td>-9</td>\n",
       "      <td>-65</td>\n",
       "      <td>-98</td>\n",
       "      <td>-102</td>\n",
       "      <td>-78</td>\n",
       "      <td>-48</td>\n",
       "      <td>-16</td>\n",
       "      <td>0</td>\n",
       "      <td>-21</td>\n",
       "      <td>...</td>\n",
       "      <td>4</td>\n",
       "      <td>2</td>\n",
       "      <td>-12</td>\n",
       "      <td>-32</td>\n",
       "      <td>-41</td>\n",
       "      <td>-65</td>\n",
       "      <td>-83</td>\n",
       "      <td>-89</td>\n",
       "      <td>-73</td>\n",
       "      <td>5</td>\n",
       "    </tr>\n",
       "  </tbody>\n",
       "</table>\n",
       "<p>5 rows × 180 columns</p>\n",
       "</div>"
      ],
      "text/plain": [
       "   Unnamed: 0   X1   X2   X3   X4   X5   X6   X7   X8   X9  ...  X170  X171  \\\n",
       "0  X21.V1.791  135  190  229  223  192  125   55   -9  -33  ...   -17   -15   \n",
       "1  X15.V1.924  386  382  356  331  320  315  307  272  244  ...   164   150   \n",
       "2     X8.V1.1  -32  -39  -47  -37  -32  -36  -57  -73  -85  ...    57    64   \n",
       "3   X16.V1.60 -105 -101  -96  -92  -89  -95 -102 -100  -87  ...   -82   -81   \n",
       "4   X20.V1.54   -9  -65  -98 -102  -78  -48  -16    0  -21  ...     4     2   \n",
       "\n",
       "   X172  X173  X174  X175  X176  X177  X178  y  \n",
       "0   -31   -77  -103  -127  -116   -83   -51  4  \n",
       "1   146   152   157   156   154   143   129  1  \n",
       "2    48    19   -12   -30   -35   -35   -36  5  \n",
       "3   -80   -77   -85   -77   -72   -69   -65  5  \n",
       "4   -12   -32   -41   -65   -83   -89   -73  5  \n",
       "\n",
       "[5 rows x 180 columns]"
      ]
     },
     "execution_count": 3,
     "metadata": {},
     "output_type": "execute_result"
    }
   ],
   "source": [
    "df = pd.read_csv('epileptic_seizure.csv')\n",
    "df.head()"
   ]
  },
  {
   "cell_type": "code",
   "execution_count": 4,
   "id": "0be12184",
   "metadata": {},
   "outputs": [
    {
     "data": {
      "text/html": [
       "<div>\n",
       "<style scoped>\n",
       "    .dataframe tbody tr th:only-of-type {\n",
       "        vertical-align: middle;\n",
       "    }\n",
       "\n",
       "    .dataframe tbody tr th {\n",
       "        vertical-align: top;\n",
       "    }\n",
       "\n",
       "    .dataframe thead th {\n",
       "        text-align: right;\n",
       "    }\n",
       "</style>\n",
       "<table border=\"1\" class=\"dataframe\">\n",
       "  <thead>\n",
       "    <tr style=\"text-align: right;\">\n",
       "      <th></th>\n",
       "      <th>X1</th>\n",
       "      <th>X2</th>\n",
       "      <th>X3</th>\n",
       "      <th>X4</th>\n",
       "      <th>X5</th>\n",
       "      <th>X6</th>\n",
       "      <th>X7</th>\n",
       "      <th>X8</th>\n",
       "      <th>X9</th>\n",
       "      <th>X10</th>\n",
       "      <th>...</th>\n",
       "      <th>X170</th>\n",
       "      <th>X171</th>\n",
       "      <th>X172</th>\n",
       "      <th>X173</th>\n",
       "      <th>X174</th>\n",
       "      <th>X175</th>\n",
       "      <th>X176</th>\n",
       "      <th>X177</th>\n",
       "      <th>X178</th>\n",
       "      <th>y</th>\n",
       "    </tr>\n",
       "  </thead>\n",
       "  <tbody>\n",
       "    <tr>\n",
       "      <th>0</th>\n",
       "      <td>135</td>\n",
       "      <td>190</td>\n",
       "      <td>229</td>\n",
       "      <td>223</td>\n",
       "      <td>192</td>\n",
       "      <td>125</td>\n",
       "      <td>55</td>\n",
       "      <td>-9</td>\n",
       "      <td>-33</td>\n",
       "      <td>-38</td>\n",
       "      <td>...</td>\n",
       "      <td>-17</td>\n",
       "      <td>-15</td>\n",
       "      <td>-31</td>\n",
       "      <td>-77</td>\n",
       "      <td>-103</td>\n",
       "      <td>-127</td>\n",
       "      <td>-116</td>\n",
       "      <td>-83</td>\n",
       "      <td>-51</td>\n",
       "      <td>4</td>\n",
       "    </tr>\n",
       "    <tr>\n",
       "      <th>1</th>\n",
       "      <td>386</td>\n",
       "      <td>382</td>\n",
       "      <td>356</td>\n",
       "      <td>331</td>\n",
       "      <td>320</td>\n",
       "      <td>315</td>\n",
       "      <td>307</td>\n",
       "      <td>272</td>\n",
       "      <td>244</td>\n",
       "      <td>232</td>\n",
       "      <td>...</td>\n",
       "      <td>164</td>\n",
       "      <td>150</td>\n",
       "      <td>146</td>\n",
       "      <td>152</td>\n",
       "      <td>157</td>\n",
       "      <td>156</td>\n",
       "      <td>154</td>\n",
       "      <td>143</td>\n",
       "      <td>129</td>\n",
       "      <td>1</td>\n",
       "    </tr>\n",
       "    <tr>\n",
       "      <th>2</th>\n",
       "      <td>-32</td>\n",
       "      <td>-39</td>\n",
       "      <td>-47</td>\n",
       "      <td>-37</td>\n",
       "      <td>-32</td>\n",
       "      <td>-36</td>\n",
       "      <td>-57</td>\n",
       "      <td>-73</td>\n",
       "      <td>-85</td>\n",
       "      <td>-94</td>\n",
       "      <td>...</td>\n",
       "      <td>57</td>\n",
       "      <td>64</td>\n",
       "      <td>48</td>\n",
       "      <td>19</td>\n",
       "      <td>-12</td>\n",
       "      <td>-30</td>\n",
       "      <td>-35</td>\n",
       "      <td>-35</td>\n",
       "      <td>-36</td>\n",
       "      <td>5</td>\n",
       "    </tr>\n",
       "    <tr>\n",
       "      <th>3</th>\n",
       "      <td>-105</td>\n",
       "      <td>-101</td>\n",
       "      <td>-96</td>\n",
       "      <td>-92</td>\n",
       "      <td>-89</td>\n",
       "      <td>-95</td>\n",
       "      <td>-102</td>\n",
       "      <td>-100</td>\n",
       "      <td>-87</td>\n",
       "      <td>-79</td>\n",
       "      <td>...</td>\n",
       "      <td>-82</td>\n",
       "      <td>-81</td>\n",
       "      <td>-80</td>\n",
       "      <td>-77</td>\n",
       "      <td>-85</td>\n",
       "      <td>-77</td>\n",
       "      <td>-72</td>\n",
       "      <td>-69</td>\n",
       "      <td>-65</td>\n",
       "      <td>5</td>\n",
       "    </tr>\n",
       "    <tr>\n",
       "      <th>4</th>\n",
       "      <td>-9</td>\n",
       "      <td>-65</td>\n",
       "      <td>-98</td>\n",
       "      <td>-102</td>\n",
       "      <td>-78</td>\n",
       "      <td>-48</td>\n",
       "      <td>-16</td>\n",
       "      <td>0</td>\n",
       "      <td>-21</td>\n",
       "      <td>-59</td>\n",
       "      <td>...</td>\n",
       "      <td>4</td>\n",
       "      <td>2</td>\n",
       "      <td>-12</td>\n",
       "      <td>-32</td>\n",
       "      <td>-41</td>\n",
       "      <td>-65</td>\n",
       "      <td>-83</td>\n",
       "      <td>-89</td>\n",
       "      <td>-73</td>\n",
       "      <td>5</td>\n",
       "    </tr>\n",
       "  </tbody>\n",
       "</table>\n",
       "<p>5 rows × 179 columns</p>\n",
       "</div>"
      ],
      "text/plain": [
       "    X1   X2   X3   X4   X5   X6   X7   X8   X9  X10  ...  X170  X171  X172  \\\n",
       "0  135  190  229  223  192  125   55   -9  -33  -38  ...   -17   -15   -31   \n",
       "1  386  382  356  331  320  315  307  272  244  232  ...   164   150   146   \n",
       "2  -32  -39  -47  -37  -32  -36  -57  -73  -85  -94  ...    57    64    48   \n",
       "3 -105 -101  -96  -92  -89  -95 -102 -100  -87  -79  ...   -82   -81   -80   \n",
       "4   -9  -65  -98 -102  -78  -48  -16    0  -21  -59  ...     4     2   -12   \n",
       "\n",
       "   X173  X174  X175  X176  X177  X178  y  \n",
       "0   -77  -103  -127  -116   -83   -51  4  \n",
       "1   152   157   156   154   143   129  1  \n",
       "2    19   -12   -30   -35   -35   -36  5  \n",
       "3   -77   -85   -77   -72   -69   -65  5  \n",
       "4   -32   -41   -65   -83   -89   -73  5  \n",
       "\n",
       "[5 rows x 179 columns]"
      ]
     },
     "execution_count": 4,
     "metadata": {},
     "output_type": "execute_result"
    }
   ],
   "source": [
    "df = df.drop(columns=['Unnamed: 0'])\n",
    "df.head()"
   ]
  },
  {
   "cell_type": "code",
   "execution_count": 5,
   "id": "b1109db4",
   "metadata": {},
   "outputs": [
    {
     "data": {
      "text/html": [
       "<div>\n",
       "<style scoped>\n",
       "    .dataframe tbody tr th:only-of-type {\n",
       "        vertical-align: middle;\n",
       "    }\n",
       "\n",
       "    .dataframe tbody tr th {\n",
       "        vertical-align: top;\n",
       "    }\n",
       "\n",
       "    .dataframe thead th {\n",
       "        text-align: right;\n",
       "    }\n",
       "</style>\n",
       "<table border=\"1\" class=\"dataframe\">\n",
       "  <thead>\n",
       "    <tr style=\"text-align: right;\">\n",
       "      <th></th>\n",
       "      <th>X1</th>\n",
       "      <th>X2</th>\n",
       "      <th>X3</th>\n",
       "      <th>X4</th>\n",
       "      <th>X5</th>\n",
       "      <th>X6</th>\n",
       "      <th>X7</th>\n",
       "      <th>X8</th>\n",
       "      <th>X9</th>\n",
       "      <th>X10</th>\n",
       "      <th>...</th>\n",
       "      <th>X170</th>\n",
       "      <th>X171</th>\n",
       "      <th>X172</th>\n",
       "      <th>X173</th>\n",
       "      <th>X174</th>\n",
       "      <th>X175</th>\n",
       "      <th>X176</th>\n",
       "      <th>X177</th>\n",
       "      <th>X178</th>\n",
       "      <th>y</th>\n",
       "    </tr>\n",
       "  </thead>\n",
       "  <tbody>\n",
       "  </tbody>\n",
       "</table>\n",
       "<p>0 rows × 179 columns</p>\n",
       "</div>"
      ],
      "text/plain": [
       "Empty DataFrame\n",
       "Columns: [X1, X2, X3, X4, X5, X6, X7, X8, X9, X10, X11, X12, X13, X14, X15, X16, X17, X18, X19, X20, X21, X22, X23, X24, X25, X26, X27, X28, X29, X30, X31, X32, X33, X34, X35, X36, X37, X38, X39, X40, X41, X42, X43, X44, X45, X46, X47, X48, X49, X50, X51, X52, X53, X54, X55, X56, X57, X58, X59, X60, X61, X62, X63, X64, X65, X66, X67, X68, X69, X70, X71, X72, X73, X74, X75, X76, X77, X78, X79, X80, X81, X82, X83, X84, X85, X86, X87, X88, X89, X90, X91, X92, X93, X94, X95, X96, X97, X98, X99, X100, ...]\n",
       "Index: []\n",
       "\n",
       "[0 rows x 179 columns]"
      ]
     },
     "execution_count": 5,
     "metadata": {},
     "output_type": "execute_result"
    }
   ],
   "source": [
    "df[df.isnull().any(axis=1)]"
   ]
  },
  {
   "cell_type": "code",
   "execution_count": 6,
   "id": "5d2aec4c",
   "metadata": {},
   "outputs": [
    {
     "name": "stdout",
     "output_type": "stream",
     "text": [
      "<class 'pandas.core.frame.DataFrame'>\n",
      "RangeIndex: 11500 entries, 0 to 11499\n",
      "Columns: 179 entries, X1 to y\n",
      "dtypes: int64(179)\n",
      "memory usage: 15.7 MB\n"
     ]
    }
   ],
   "source": [
    "df.info()"
   ]
  },
  {
   "cell_type": "code",
   "execution_count": 8,
   "id": "915b3e9f",
   "metadata": {},
   "outputs": [
    {
     "data": {
      "text/plain": [
       "y\n",
       "4    2300\n",
       "1    2300\n",
       "5    2300\n",
       "2    2300\n",
       "3    2300\n",
       "Name: count, dtype: int64"
      ]
     },
     "execution_count": 8,
     "metadata": {},
     "output_type": "execute_result"
    }
   ],
   "source": [
    "df['y'].value_counts()"
   ]
  },
  {
   "cell_type": "code",
   "execution_count": 9,
   "id": "16ad01be",
   "metadata": {},
   "outputs": [
    {
     "data": {
      "text/plain": [
       "array([4, 1, 5, 2, 3])"
      ]
     },
     "execution_count": 9,
     "metadata": {},
     "output_type": "execute_result"
    }
   ],
   "source": [
    "df['y'].unique()"
   ]
  },
  {
   "cell_type": "code",
   "execution_count": 10,
   "id": "ef3c8716",
   "metadata": {},
   "outputs": [],
   "source": [
    "df['y'] = df['y'].apply(lambda x: 1 if x==1 else 0)  # Convert to binary classification"
   ]
  },
  {
   "cell_type": "code",
   "execution_count": 11,
   "id": "b37378d6",
   "metadata": {},
   "outputs": [
    {
     "data": {
      "text/plain": [
       "y\n",
       "0    9200\n",
       "1    2300\n",
       "Name: count, dtype: int64"
      ]
     },
     "execution_count": 11,
     "metadata": {},
     "output_type": "execute_result"
    }
   ],
   "source": [
    "df['y'].value_counts()"
   ]
  },
  {
   "cell_type": "code",
   "execution_count": 12,
   "id": "c8d58bb0",
   "metadata": {},
   "outputs": [],
   "source": [
    "y = df['y']\n",
    "X = df.drop(columns=['y'])"
   ]
  },
  {
   "cell_type": "code",
   "execution_count": 29,
   "id": "05911e0e",
   "metadata": {},
   "outputs": [
    {
     "data": {
      "text/plain": [
       "(11500, 178)"
      ]
     },
     "execution_count": 29,
     "metadata": {},
     "output_type": "execute_result"
    }
   ],
   "source": [
    "X.shape"
   ]
  },
  {
   "cell_type": "code",
   "execution_count": 38,
   "id": "275ae42c",
   "metadata": {},
   "outputs": [],
   "source": [
    "from sklearn.model_selection import train_test_split\n",
    "X_train, X_test, y_train, y_test = train_test_split(X, y, test_size=0.25, random_state=42, stratify=y)"
   ]
  },
  {
   "cell_type": "code",
   "execution_count": 39,
   "id": "e1dcf0d4",
   "metadata": {},
   "outputs": [],
   "source": [
    "from sklearn.preprocessing import StandardScaler\n",
    "\n",
    "scaler = StandardScaler()\n",
    "X_train_scaled = scaler.fit_transform(X_train)\n",
    "X_test_scaled = scaler.transform(X_test)"
   ]
  },
  {
   "cell_type": "code",
   "execution_count": 40,
   "id": "edd5b629",
   "metadata": {},
   "outputs": [
    {
     "data": {
      "text/plain": [
       "((8625, 178), (2875, 178), (8625,), (2875,))"
      ]
     },
     "execution_count": 40,
     "metadata": {},
     "output_type": "execute_result"
    }
   ],
   "source": [
    "X_train_scaled.shape, X_test_scaled.shape, y_train.shape, y_test.shape"
   ]
  },
  {
   "cell_type": "code",
   "execution_count": null,
   "id": "2ca8dbaf",
   "metadata": {},
   "outputs": [
    {
     "data": {
      "text/plain": [
       "['model/scaler.pkl']"
      ]
     },
     "execution_count": 43,
     "metadata": {},
     "output_type": "execute_result"
    }
   ],
   "source": [
    "## creating a 'pkl' file to store scaler\n",
    "\n",
    "# joblib.dump(scaler, 'model/scaler.pkl')"
   ]
  },
  {
   "cell_type": "code",
   "execution_count": 25,
   "id": "1664722e",
   "metadata": {},
   "outputs": [],
   "source": [
    "from sklearn.linear_model import LogisticRegression\n",
    "from sklearn.svm import SVC\n",
    "from sklearn.neighbors import KNeighborsClassifier\n",
    "from sklearn.tree import DecisionTreeClassifier\n",
    "from sklearn.ensemble import RandomForestClassifier\n",
    "from sklearn.ensemble import AdaBoostClassifier\n",
    "from sklearn.ensemble import GradientBoostingClassifier\n",
    "from xgboost import XGBClassifier\n",
    "from sklearn.metrics import confusion_matrix, accuracy_score, precision_score, recall_score"
   ]
  },
  {
   "cell_type": "code",
   "execution_count": 59,
   "id": "25290ff2",
   "metadata": {},
   "outputs": [],
   "source": [
    "# X_train_scaled.shape, X_test_scaled.shape, y_train.shape, y_test.shape"
   ]
  },
  {
   "cell_type": "code",
   "execution_count": 26,
   "id": "896eb3eb",
   "metadata": {},
   "outputs": [
    {
     "name": "stdout",
     "output_type": "stream",
     "text": [
      "Model : LogisticRegression\n",
      "Train Data : \n",
      "Accuracy Score:  0.8293333333333334\n",
      "Confusion Metricx: \n",
      " [[6898    2]\n",
      " [1470  255]]\n",
      "Precision Score:  0.9922178988326849\n",
      "Recall Score:  0.14782608695652175\n",
      "\n",
      "\n",
      "Test Data : \n",
      "Accuracy Score:   0.8170434782608695\n",
      "Confusion Metricx: \n",
      " [[2298    2]\n",
      " [ 524   51]]\n",
      "Precision Score:  0.9622641509433962\n",
      "Recall Score:   0.08869565217391304\n",
      "==================================================\n",
      "\n",
      "\n",
      "Model : Search Vector Machine Classifier\n",
      "Train Data : \n",
      "Accuracy Score:  0.9809855072463768\n",
      "Confusion Metricx: \n",
      " [[6857   43]\n",
      " [ 121 1604]]\n",
      "Precision Score:  0.9738919247115968\n",
      "Recall Score:  0.9298550724637681\n",
      "\n",
      "\n",
      "Test Data : \n",
      "Accuracy Score:   0.9718260869565217\n",
      "Confusion Metricx: \n",
      " [[2276   24]\n",
      " [  57  518]]\n",
      "Precision Score:  0.955719557195572\n",
      "Recall Score:   0.9008695652173913\n",
      "==================================================\n",
      "\n",
      "\n",
      "Model : K-Nearest Neighbours Classifiers\n",
      "Train Data : \n",
      "Accuracy Score:  0.9379710144927537\n",
      "Confusion Metricx: \n",
      " [[6896    4]\n",
      " [ 531 1194]]\n",
      "Precision Score:  0.996661101836394\n",
      "Recall Score:  0.6921739130434783\n",
      "\n",
      "\n",
      "Test Data : \n",
      "Accuracy Score:   0.928\n",
      "Confusion Metricx: \n",
      " [[2297    3]\n",
      " [ 204  371]]\n",
      "Precision Score:  0.9919786096256684\n",
      "Recall Score:   0.6452173913043479\n",
      "==================================================\n",
      "\n",
      "\n",
      "Model : Decision Tree Classifier\n",
      "Train Data : \n",
      "Accuracy Score:  1.0\n",
      "Confusion Metricx: \n",
      " [[6900    0]\n",
      " [   0 1725]]\n",
      "Precision Score:  1.0\n",
      "Recall Score:  1.0\n",
      "\n",
      "\n",
      "Test Data : \n",
      "Accuracy Score:   0.9321739130434783\n",
      "Confusion Metricx: \n",
      " [[2201   99]\n",
      " [  96  479]]\n",
      "Precision Score:  0.828719723183391\n",
      "Recall Score:   0.8330434782608696\n",
      "==================================================\n",
      "\n",
      "\n",
      "Model : Random Forest Classifier\n",
      "Train Data : \n",
      "Accuracy Score:  1.0\n",
      "Confusion Metricx: \n",
      " [[6900    0]\n",
      " [   0 1725]]\n",
      "Precision Score:  1.0\n",
      "Recall Score:  1.0\n",
      "\n",
      "\n",
      "Test Data : \n",
      "Accuracy Score:   0.9739130434782609\n",
      "Confusion Metricx: \n",
      " [[2264   36]\n",
      " [  39  536]]\n",
      "Precision Score:  0.9370629370629371\n",
      "Recall Score:   0.9321739130434783\n",
      "==================================================\n",
      "\n",
      "\n",
      "Model : Ada Boost Classifier\n",
      "Train Data : \n",
      "Accuracy Score:  0.9474782608695652\n",
      "Confusion Metricx: \n",
      " [[6778  122]\n",
      " [ 331 1394]]\n",
      "Precision Score:  0.9195250659630607\n",
      "Recall Score:  0.8081159420289855\n",
      "\n",
      "\n",
      "Test Data : \n",
      "Accuracy Score:   0.9318260869565217\n",
      "Confusion Metricx: \n",
      " [[2244   56]\n",
      " [ 140  435]]\n",
      "Precision Score:  0.8859470468431772\n",
      "Recall Score:   0.7565217391304347\n",
      "==================================================\n",
      "\n",
      "\n",
      "Model : Gradient Boosting Classifier\n",
      "Train Data : \n",
      "Accuracy Score:  0.9859710144927536\n",
      "Confusion Metricx: \n",
      " [[6878   22]\n",
      " [  99 1626]]\n",
      "Precision Score:  0.9866504854368932\n",
      "Recall Score:  0.9426086956521739\n",
      "\n",
      "\n",
      "Test Data : \n",
      "Accuracy Score:   0.9627826086956521\n",
      "Confusion Metricx: \n",
      " [[2273   27]\n",
      " [  80  495]]\n",
      "Precision Score:  0.9482758620689655\n",
      "Recall Score:   0.8608695652173913\n",
      "==================================================\n",
      "\n",
      "\n",
      "Model : XGB Classifier\n",
      "Train Data : \n",
      "Accuracy Score:  1.0\n",
      "Confusion Metricx: \n",
      " [[6900    0]\n",
      " [   0 1725]]\n",
      "Precision Score:  1.0\n",
      "Recall Score:  1.0\n",
      "\n",
      "\n",
      "Test Data : \n",
      "Accuracy Score:   0.9697391304347827\n",
      "Confusion Metricx: \n",
      " [[2271   29]\n",
      " [  58  517]]\n",
      "Precision Score:  0.9468864468864469\n",
      "Recall Score:   0.8991304347826087\n",
      "==================================================\n",
      "\n",
      "\n"
     ]
    }
   ],
   "source": [
    "models = {\n",
    "    'LogisticRegression' : LogisticRegression(),\n",
    "    'Search Vector Machine Classifier' : SVC(),\n",
    "    'K-Nearest Neighbours Classifiers' : KNeighborsClassifier(),\n",
    "    'Decision Tree Classifier' : DecisionTreeClassifier(),\n",
    "    'Random Forest Classifier' : RandomForestClassifier(),\n",
    "    'Ada Boost Classifier' : AdaBoostClassifier(),\n",
    "    'Gradient Boosting Classifier' : GradientBoostingClassifier(),\n",
    "    'XGB Classifier' : XGBClassifier()\n",
    "}\n",
    "for i in range(len(list(models))):\n",
    "    model = list(models.values())[i]\n",
    "    model.fit(X_train_scaled, y_train)\n",
    "    \n",
    "    y_train_pred = model.predict(X_train_scaled)\n",
    "    y_test_pred = model.predict(X_test_scaled)\n",
    "    \n",
    "    print(f\"Model : {list(models.keys())[i]}\")\n",
    "    print(\"Train Data : \")\n",
    "    print(\"Accuracy Score: \", accuracy_score(y_train, y_train_pred))\n",
    "    print(\"Confusion Metricx: \\n\", confusion_matrix(y_train, y_train_pred))\n",
    "    print(\"Precision Score: \", precision_score(y_train, y_train_pred))\n",
    "    print(\"Recall Score: \", recall_score(y_train, y_train_pred))\n",
    "    print(\"\\n\")\n",
    "    print(\"Test Data : \")\n",
    "    print(\"Accuracy Score:  \", accuracy_score(y_test, y_test_pred))\n",
    "    print(\"Confusion Metricx: \\n\", confusion_matrix(y_test, y_test_pred))\n",
    "    print(\"Precision Score: \", precision_score(y_test, y_test_pred))\n",
    "    print(\"Recall Score:  \", recall_score(y_test, y_test_pred))\n",
    "    print(\"=\"*50)\n",
    "    print(\"\\n\")\n",
    "    "
   ]
  },
  {
   "cell_type": "markdown",
   "id": "d36340ed",
   "metadata": {},
   "source": [
    "## Performing PCA :-\n"
   ]
  },
  {
   "cell_type": "code",
   "execution_count": null,
   "id": "ff2f04b4",
   "metadata": {},
   "outputs": [],
   "source": [
    "from sklearn.decomposition import PCA\n",
    "pca = PCA(n_components=0.99)  "
   ]
  },
  {
   "cell_type": "code",
   "execution_count": 46,
   "id": "429a0a9f",
   "metadata": {},
   "outputs": [],
   "source": [
    "X_train_pca = pca.fit_transform(X_train_scaled)\n",
    "X_test_pca = pca.transform(X_test_scaled)"
   ]
  },
  {
   "cell_type": "code",
   "execution_count": 47,
   "id": "fc0859fb",
   "metadata": {},
   "outputs": [
    {
     "name": "stdout",
     "output_type": "stream",
     "text": [
      "Number of components kept: 53\n"
     ]
    }
   ],
   "source": [
    "print(f\"Number of components kept: {pca.n_components_}\")\n"
   ]
  },
  {
   "cell_type": "code",
   "execution_count": null,
   "id": "aaed5325",
   "metadata": {},
   "outputs": [
    {
     "data": {
      "text/plain": [
       "['model/pca.pkl']"
      ]
     },
     "execution_count": 48,
     "metadata": {},
     "output_type": "execute_result"
    }
   ],
   "source": [
    "## saving a 'pkl' file for pca\n",
    "\n",
    "# joblib.dump(pca, 'model/pca.pkl')"
   ]
  },
  {
   "cell_type": "code",
   "execution_count": 56,
   "id": "f36dd4aa",
   "metadata": {},
   "outputs": [],
   "source": [
    "from sklearn.svm import SVC\n",
    "model = SVC(kernel='rbf', C=10, gamma='scale', probability=True)\n",
    "model.fit(X_train_pca, y_train)\n",
    "y_train_pred_pca = model.predict(X_train_pca)\n",
    "y_test_pred_pca = model.predict(X_test_pca)"
   ]
  },
  {
   "cell_type": "code",
   "execution_count": null,
   "id": "fda3e0e5",
   "metadata": {},
   "outputs": [
    {
     "data": {
      "text/plain": [
       "['model/svm_model.pkl']"
      ]
     },
     "execution_count": 57,
     "metadata": {},
     "output_type": "execute_result"
    }
   ],
   "source": [
    "## saving the svc model to a pickle file\n",
    "\n",
    "# joblib.dump(model, \"model/svm_model.pkl\")"
   ]
  },
  {
   "cell_type": "code",
   "execution_count": 58,
   "id": "c28be18f",
   "metadata": {},
   "outputs": [
    {
     "name": "stdout",
     "output_type": "stream",
     "text": [
      "Training data Accuracy:- \n",
      "Accuracy Score:   0.9981449275362319\n",
      "Confusion Metricx: \n",
      " [[6900    0]\n",
      " [  16 1709]]\n",
      "Precision Score:  1.0\n",
      "Recall Score:   0.9907246376811594\n"
     ]
    }
   ],
   "source": [
    "from sklearn.metrics import confusion_matrix, accuracy_score, precision_score, recall_score\n",
    "\n",
    "print(\"Training data Accuracy:- \")\n",
    "print(\"Accuracy Score:  \", accuracy_score(y_train, y_train_pred_pca))\n",
    "print(\"Confusion Metricx: \\n\", confusion_matrix(y_train, y_train_pred_pca))\n",
    "print(\"Precision Score: \", precision_score(y_train, y_train_pred_pca))\n",
    "print(\"Recall Score:  \", recall_score(y_train, y_train_pred_pca))"
   ]
  },
  {
   "cell_type": "code",
   "execution_count": 59,
   "id": "3c0fdc8c",
   "metadata": {},
   "outputs": [
    {
     "name": "stdout",
     "output_type": "stream",
     "text": [
      "Test data Accuracy:- \n",
      "Accuracy Score:   0.9777391304347826\n",
      "Confusion Metricx: \n",
      " [[2272   28]\n",
      " [  36  539]]\n",
      "Precision Score:  0.9506172839506173\n",
      "Recall Score:   0.9373913043478261\n"
     ]
    }
   ],
   "source": [
    "print(\"Test data Accuracy:- \")\n",
    "\n",
    "print(\"Accuracy Score:  \", accuracy_score(y_test, y_test_pred_pca))\n",
    "print(\"Confusion Metricx: \\n\", confusion_matrix(y_test, y_test_pred_pca))\n",
    "print(\"Precision Score: \", precision_score(y_test, y_test_pred_pca))\n",
    "print(\"Recall Score:  \", recall_score(y_test, y_test_pred_pca))"
   ]
  },
  {
   "cell_type": "code",
   "execution_count": 53,
   "id": "81fba233",
   "metadata": {},
   "outputs": [
    {
     "data": {
      "text/plain": [
       "<matplotlib.collections.PathCollection at 0x21c61bd6e70>"
      ]
     },
     "execution_count": 53,
     "metadata": {},
     "output_type": "execute_result"
    },
    {
     "data": {
      "image/png": "[encoded data removed]",
      "text/plain": [
       "<Figure size 640x480 with 1 Axes>"
      ]
     },
     "metadata": {},
     "output_type": "display_data"
    }
   ],
   "source": [
    "plt.scatter(X_train_pca[:, 0], X_train_pca[:, 1], c=y_train, cmap='viridis', edgecolor='k', s=50)"
   ]
  }
 ],
 "metadata": {
  "kernelspec": {
   "display_name": "Python 3",
   "language": "python",
   "name": "python3"
  },
  "language_info": {
   "codemirror_mode": {
    "name": "ipython",
    "version": 3
   },
   "file_extension": ".py",
   "mimetype": "text/x-python",
   "name": "python",
   "nbconvert_exporter": "python",
   "pygments_lexer": "ipython3",
   "version": "3.12.0"
  }
 },
 "nbformat": 4,
 "nbformat_minor": 5
}
